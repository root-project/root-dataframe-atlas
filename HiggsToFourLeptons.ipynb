{
 "cells": [
  {
   "cell_type": "markdown",
   "metadata": {},
   "source": [
    "# Higgs to four lepton analysis with ATLAS Open Data\n",
    "\n",
    "The decay of the Standard Model Higgs boson to two Z bosons and subsequently to four leptons is called the \"golden channel\". The selection leads to a narrow invariant mass peak on top a relatively smooth and small background, revealing the Higgs at 125 GeV.\n",
    "\n",
    "We are running the analysis described [here](http://opendata.atlas.cern/release/2020/documentation/physics/FL2.html) using the dataframes of the [ROOT](https://root.cern) data analysis framework."
   ]
  },
  {
   "cell_type": "code",
   "execution_count": null,
   "metadata": {},
   "outputs": [],
   "source": [
    "import ROOT\n",
    "import json\n",
    "from time import time"
   ]
  },
  {
   "cell_type": "markdown",
   "metadata": {},
   "source": [
    "## Create a ROOT dataframe for each dataset\n",
    "Note that we load the filenames from an external json file."
   ]
  },
  {
   "cell_type": "code",
   "execution_count": null,
   "metadata": {},
   "outputs": [],
   "source": [
    "path = \"root://eospublic.cern.ch//eos/opendata/atlas/OutreachDatasets/2020-01-22\"\n",
    "files = json.load(open(\"datasets.json\"))\n",
    "processes = files.keys()\n",
    "df = {}\n",
    "xsecs = {}\n",
    "sumws = {}\n",
    "samples = []\n",
    "for p in processes:\n",
    "    for d in files[p]:\n",
    "        # Construct the dataframes\n",
    "        folder = d[0] # Folder name\n",
    "        sample = d[1] # Sample name\n",
    "        xsecs[sample] = d[2] # Cross-section\n",
    "        sumws[sample] = d[3] # Sum of weights\n",
    "        samples.append(sample)\n",
    "        df[sample] = ROOT.RDataFrame(\"mini\", \"{}/4lep/{}/{}.4lep.root\".format(path, folder, sample))"
   ]
  },
  {
   "cell_type": "markdown",
   "metadata": {},
   "source": [
    "## Select events for the analysis"
   ]
  },
  {
   "cell_type": "code",
   "execution_count": null,
   "metadata": {},
   "outputs": [],
   "source": [
    "# Just-in-time compile a helper function to perform a more complex event selection\n",
    "ROOT.gInterpreter.Declare(\"\"\"\n",
    "using VecF_t = const ROOT::RVec<float>&;\n",
    "using VecI_t = const ROOT::RVec<int>&;\n",
    "bool GoodElectronOrMuon(VecI_t type, VecF_t pt, VecF_t eta, VecF_t phi, VecF_t e, VecF_t trackd0pv, VecF_t tracksigd0pv, VecF_t z0)\n",
    "{\n",
    "    for (size_t i = 0; i < type.size(); i++) {\n",
    "        ROOT::Math::PtEtaPhiEVector p(pt[i] / 1000.0, eta[i], phi[i], e[i] / 1000.0);\n",
    "        if (type[i] == 11) {\n",
    "            if (pt[i] < 7000 || abs(eta[i]) > 2.47 || abs(trackd0pv[i] / tracksigd0pv[i]) > 5 || abs(z0[i] * sin(p.Theta())) > 0.5) return false;\n",
    "        } else {\n",
    "            if (abs(trackd0pv[i] / tracksigd0pv[i]) > 5 || abs(z0[i] * sin(p.Theta())) > 0.5) return false;\n",
    "        }\n",
    "    }\n",
    "    return true;\n",
    "}\n",
    "\"\"\")\n",
    "\n",
    "for s in samples:\n",
    "    # Select electron or muon trigger\n",
    "    df[s] = df[s].Filter(\"trigE || trigM\")\n",
    "\n",
    "    # Select events with exactly four good leptons conserving charge and lepton numbers\n",
    "    df[s] = df[s].Define(\"good_lep\", \"(abs(lep_eta) < 2.5) && (lep_pt > 5000) && (lep_ptcone30 / lep_pt < 0.3) && (lep_etcone20 / lep_pt < 0.3)\")\\\n",
    "                 .Filter(\"Sum(good_lep) == 4\")\\\n",
    "                 .Filter(\"Sum(lep_charge[good_lep]) == 0\")\\\n",
    "                 .Define(\"goodlep_sumtypes\", \"Sum(lep_type[good_lep])\")\\\n",
    "                 .Filter(\"goodlep_sumtypes == 44 || goodlep_sumtypes == 52 || goodlep_sumtypes == 48\")\n",
    "\n",
    "    # Apply additional cuts in case the lepton is an electron or muon\n",
    "    df[s] = df[s].Filter(\"GoodElectronOrMuon(lep_type[good_lep], lep_pt[good_lep], lep_eta[good_lep], lep_phi[good_lep], lep_E[good_lep], lep_trackd0pvunbiased[good_lep], lep_tracksigd0pvunbiased[good_lep], lep_z0[good_lep])\")\n",
    "\n",
    "    # Create new columns with the kinematics of good leptons\n",
    "    df[s] = df[s].Define(\"goodlep_pt\", \"lep_pt[good_lep]\")\\\n",
    "                 .Define(\"goodlep_eta\", \"lep_eta[good_lep]\")\\\n",
    "                 .Define(\"goodlep_phi\", \"lep_phi[good_lep]\")\\\n",
    "                 .Define(\"goodlep_E\", \"lep_E[good_lep]\")\n",
    "\n",
    "    # Select leptons with high transverse momentum\n",
    "    df[s] = df[s].Filter(\"(goodlep_pt[0] > 25000) && (goodlep_pt[1] > 15000) && (goodlep_pt[2] > 10000)\")"
   ]
  },
  {
   "cell_type": "markdown",
   "metadata": {},
   "source": [
    "## Apply luminosity, scale factors and MC weights for simulated events"
   ]
  },
  {
   "cell_type": "code",
   "execution_count": null,
   "metadata": {},
   "outputs": [],
   "source": [
    "lumi = 10064.0\n",
    "for s in samples:\n",
    "    if \"data\" in s:\n",
    "        df[s] = df[s].Define(\"weight\", \"1.0\")\n",
    "    else:\n",
    "        df[s] = df[s].Define(\"weight\", \"scaleFactor_ELE * scaleFactor_MUON * scaleFactor_LepTRIGGER * scaleFactor_PILEUP * mcWeight * {} / {} * {}\".format(xsecs[s], sumws[s], lumi))"
   ]
  },
  {
   "cell_type": "markdown",
   "metadata": {},
   "source": [
    "## Compute invariant mass of the four lepton system and make a histogram"
   ]
  },
  {
   "cell_type": "code",
   "execution_count": null,
   "metadata": {},
   "outputs": [],
   "source": [
    "# Just-in-time compile a function to compute the invariant mass of the four lepton system\n",
    "ROOT.gInterpreter.Declare(\"\"\"\n",
    "using Vec_t = const ROOT::RVec<float>&;\n",
    "float ComputeInvariantMass(Vec_t pt, Vec_t eta, Vec_t phi, Vec_t e)\n",
    "{\n",
    "    ROOT::Math::PtEtaPhiEVector p1(pt[0], eta[0], phi[0], e[0]);\n",
    "    ROOT::Math::PtEtaPhiEVector p2(pt[1], eta[1], phi[1], e[1]);\n",
    "    ROOT::Math::PtEtaPhiEVector p3(pt[2], eta[2], phi[2], e[2]);\n",
    "    ROOT::Math::PtEtaPhiEVector p4(pt[3], eta[3], phi[3], e[3]);\n",
    "    return (p1 + p2 + p3 + p4).M() / 1000;\n",
    "}\n",
    "\"\"\")\n",
    "\n",
    "histos = {}\n",
    "for s in samples:\n",
    "    df[s] = df[s].Define(\"m4l\", \"ComputeInvariantMass(goodlep_pt, goodlep_eta, goodlep_phi, goodlep_E)\")\n",
    "    histos[s] = df[s].Histo1D(ROOT.ROOT.RDF.TH1DModel(s, \"m4l\", 24, 80, 170), \"m4l\", \"weight\")"
   ]
  },
  {
   "cell_type": "markdown",
   "metadata": {},
   "source": [
    "## Run the event loop and merge histograms of the respective processes"
   ]
  },
  {
   "cell_type": "code",
   "execution_count": null,
   "metadata": {},
   "outputs": [],
   "source": [
    "def merge_histos(label):\n",
    "    h = None\n",
    "    for i, d in enumerate(files[label]):\n",
    "        t = histos[d[1]].GetValue()\n",
    "        if i == 0: h = t.Clone()\n",
    "        else: h.Add(t)\n",
    "    h.SetNameTitle(label, label)\n",
    "    return h\n",
    "\n",
    "# Get histograms\n",
    "data = merge_histos(\"data\")\n",
    "higgs = merge_histos(\"higgs\")\n",
    "zz = merge_histos(\"zz\")\n",
    "other = merge_histos(\"other\")\n",
    "\n",
    "# Apply MC correction for ZZ due to missing gg->ZZ process\n",
    "zz.Scale(1.3)"
   ]
  },
  {
   "cell_type": "markdown",
   "metadata": {},
   "source": [
    "## Make the plot"
   ]
  },
  {
   "cell_type": "code",
   "execution_count": null,
   "metadata": {},
   "outputs": [],
   "source": [
    "# Set styles\n",
    "ROOT.gROOT.SetStyle(\"ATLAS\")\n",
    "\n",
    "# Create canvas with pad\n",
    "c = ROOT.TCanvas(\"c\", \"\", 600, 600)\n",
    "pad = ROOT.TPad(\"upper_pad\", \"\", 0, 0, 1, 1)\n",
    "pad.SetTickx(False)\n",
    "pad.SetTicky(False)\n",
    "pad.Draw()\n",
    "pad.cd()\n",
    "\n",
    "# Draw stack with MC contributions\n",
    "stack = ROOT.THStack()\n",
    "for h, color in zip([other, zz, higgs], [(155, 152, 204), (100, 192, 232), (191, 34, 41)]):\n",
    "    h.SetLineWidth(1)\n",
    "    h.SetLineColor(1)\n",
    "    h.SetFillColor(ROOT.TColor.GetColor(*color))\n",
    "    stack.Add(h)\n",
    "stack.Draw(\"HIST\")\n",
    "stack.GetXaxis().SetLabelSize(0.04)\n",
    "stack.GetXaxis().SetTitleSize(0.045)\n",
    "stack.GetXaxis().SetTitleOffset(1.3)\n",
    "stack.GetXaxis().SetTitle(\"m_{4l}^{H#rightarrow ZZ} [GeV]\")\n",
    "stack.GetYaxis().SetTitle(\"Events\")\n",
    "stack.GetYaxis().SetLabelSize(0.04)\n",
    "stack.GetYaxis().SetTitleSize(0.045)\n",
    "stack.SetMaximum(33)\n",
    "stack.GetYaxis().ChangeLabel(1, -1, 0)\n",
    "\n",
    "# Draw data\n",
    "data.SetMarkerStyle(20)\n",
    "data.SetMarkerSize(1.2)\n",
    "data.SetLineWidth(2)\n",
    "data.SetLineColor(ROOT.kBlack)\n",
    "data.Draw(\"E SAME\")\n",
    "\n",
    "# Add legend\n",
    "legend = ROOT.TLegend(0.60, 0.65, 0.92, 0.92)\n",
    "legend.SetTextFont(42)\n",
    "legend.SetFillStyle(0)\n",
    "legend.SetBorderSize(0)\n",
    "legend.SetTextSize(0.04)\n",
    "legend.SetTextAlign(32)\n",
    "legend.AddEntry(data, \"Data\" ,\"lep\")\n",
    "legend.AddEntry(higgs, \"Higgs\", \"f\")\n",
    "legend.AddEntry(zz, \"ZZ\", \"f\")\n",
    "legend.AddEntry(other, \"Other\", \"f\")\n",
    "legend.Draw(\"SAME\")\n",
    "\n",
    "# Add ATLAS label\n",
    "text = ROOT.TLatex()\n",
    "text.SetNDC()\n",
    "text.SetTextFont(72)\n",
    "text.SetTextSize(0.045)\n",
    "text.DrawLatex(0.21, 0.86, \"ATLAS\")\n",
    "\n",
    "text.SetTextFont(42)\n",
    "text.DrawLatex(0.21 + 0.16, 0.86, \"Open Data\")\n",
    "\n",
    "text.SetTextSize(0.04)\n",
    "text.DrawLatex(0.21, 0.80, \"#sqrt{s} = 13 TeV, 10 fb^{-1}\");"
   ]
  },
  {
   "cell_type": "markdown",
   "metadata": {},
   "source": [
    "## Draw the plot interactively\n",
    "\n",
    "Note that you can explore the plot interactively by dragging and scrolling. You can always reset the view by double clicking on the canvas."
   ]
  },
  {
   "cell_type": "code",
   "execution_count": null,
   "metadata": {},
   "outputs": [],
   "source": [
    "%jsroot on\n",
    "c.Draw()"
   ]
  }
 ],
 "metadata": {
  "kernelspec": {
   "display_name": "Python 3",
   "language": "python",
   "name": "python3"
  },
  "language_info": {
   "codemirror_mode": {
    "name": "ipython",
    "version": 3
   },
   "file_extension": ".py",
   "mimetype": "text/x-python",
   "name": "python",
   "nbconvert_exporter": "python",
   "pygments_lexer": "ipython3",
   "version": "3.8.2"
  }
 },
 "nbformat": 4,
 "nbformat_minor": 2
}
